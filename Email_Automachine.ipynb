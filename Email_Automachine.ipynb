{
 "cells": [
  {
   "cell_type": "code",
   "execution_count": 1,
   "id": "ca418e3c-12de-4584-a7eb-11260dde5621",
   "metadata": {},
   "outputs": [
    {
     "name": "stdout",
     "output_type": "stream",
     "text": [
      "Requirement already satisfied: schedule in c:\\users\\nikhi\\anaconda3\\lib\\site-packages (1.2.2)\n",
      "Note: you may need to restart the kernel to use updated packages.\n"
     ]
    }
   ],
   "source": [
    "pip install schedule"
   ]
  },
  {
   "cell_type": "code",
   "execution_count": 2,
   "id": "041830d8-0f90-4db3-9b77-70a0e6e0be6b",
   "metadata": {},
   "outputs": [],
   "source": [
    "import smtplib\n",
    "import schedule\n",
    "import time\n",
    "from email.mime.text import MIMEText\n",
    "from email.mime.multipart import MIMEMultipart"
   ]
  },
  {
   "cell_type": "code",
   "execution_count": 3,
   "id": "219b92c9-e65b-4e87-9016-998490a7a382",
   "metadata": {},
   "outputs": [],
   "source": [
    "EMAIL_ADDRESS = 'your_email@example.com'\n",
    "EMAIL_PASSWORD = 'your_app_password'  # Use App Password for Gmail or secure auth method\n",
    "SMTP_SERVER = 'smtp.gmail.com'\n",
    "SMTP_PORT = 587"
   ]
  },
  {
   "cell_type": "code",
   "execution_count": 4,
   "id": "aedc789d-5503-480f-a73d-6c73920d252d",
   "metadata": {},
   "outputs": [],
   "source": [
    "recipients = ['recipient1@example.com', 'recipient2@example.com']"
   ]
  },
  {
   "cell_type": "code",
   "execution_count": 5,
   "id": "decc174c-c2d3-40ff-8faf-9476890b5256",
   "metadata": {},
   "outputs": [],
   "source": [
    "subject = 'Automated Email from Python'\n",
    "body = 'This is an automated email sent by the Email Auto Machine.'"
   ]
  },
  {
   "cell_type": "code",
   "execution_count": 6,
   "id": "fa73fac7-8d7f-4697-a430-ffb0917190e6",
   "metadata": {},
   "outputs": [],
   "source": [
    "def send_email():\n",
    "    try:\n",
    "        for recipient in recipients:\n",
    "            # Create the email\n",
    "            msg = MIMEMultipart()\n",
    "            msg['From'] = EMAIL_ADDRESS\n",
    "            msg['To'] = recipient\n",
    "            msg['Subject'] = subject\n",
    "            msg.attach(MIMEText(body, 'plain'))\n",
    "\n",
    "            # Send the email\n",
    "            with smtplib.SMTP(SMTP_SERVER, SMTP_PORT) as server:\n",
    "                server.starttls()\n",
    "                server.login(EMAIL_ADDRESS, EMAIL_PASSWORD)\n",
    "                server.send_message(msg)\n",
    "            \n",
    "            print(f\"Email sent to {recipient}\")\n",
    "    except Exception as e:\n",
    "        print(f\"Failed to send email: {e}\")"
   ]
  },
  {
   "cell_type": "code",
   "execution_count": 7,
   "id": "69b11bc9-7444-432f-b1fa-8a84b6e12ed0",
   "metadata": {},
   "outputs": [
    {
     "data": {
      "text/plain": [
       "Every 1 day at 09:00:00 do send_email() (last run: [never], next run: 2025-05-17 09:00:00)"
      ]
     },
     "execution_count": 7,
     "metadata": {},
     "output_type": "execute_result"
    }
   ],
   "source": [
    "schedule.every().day.at(\"09:00\").do(send_email)"
   ]
  },
  {
   "cell_type": "code",
   "execution_count": null,
   "id": "1499f9b2-6ee2-4343-8149-b02947a0eb90",
   "metadata": {},
   "outputs": [
    {
     "name": "stdout",
     "output_type": "stream",
     "text": [
      "Email Auto Machine is running... Press Ctrl+C to stop.\n"
     ]
    }
   ],
   "source": [
    "print(\"Email Auto Machine is running... Press Ctrl+C to stop.\")\n",
    "while True:\n",
    "    schedule.run_pending()\n",
    "    time.sleep(1)"
   ]
  }
 ],
 "metadata": {
  "kernelspec": {
   "display_name": "Python 3 (ipykernel)",
   "language": "python",
   "name": "python3"
  },
  "language_info": {
   "codemirror_mode": {
    "name": "ipython",
    "version": 3
   },
   "file_extension": ".py",
   "mimetype": "text/x-python",
   "name": "python",
   "nbconvert_exporter": "python",
   "pygments_lexer": "ipython3",
   "version": "3.12.7"
  }
 },
 "nbformat": 4,
 "nbformat_minor": 5
}
